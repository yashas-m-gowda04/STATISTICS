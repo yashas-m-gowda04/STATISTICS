{
  "nbformat": 4,
  "nbformat_minor": 0,
  "metadata": {
    "colab": {
      "provenance": []
    },
    "kernelspec": {
      "name": "python3",
      "display_name": "Python 3"
    },
    "language_info": {
      "name": "python"
    }
  },
  "cells": [
    {
      "cell_type": "markdown",
      "source": [
        "# **THEORY QUESTIONS**"
      ],
      "metadata": {
        "id": "aSAWni1br6_J"
      }
    },
    {
      "cell_type": "markdown",
      "source": [
        "## **1. What is the difference between descriptive statistics and inferential statistics? Explain with examples.**\n",
        "\n",
        "**Answer**:\n",
        "\n",
        "**Descriptive Statistics** involves summarizing and organizing data to describe its main features. It provides simple summaries about the sample and the measures. These summaries can be quantitative (e.g., mean, median, mode, standard deviation) or visual (e.g., histograms, box plots). The goal is to describe what the data shows.\n",
        "\n",
        "  * **Example**: A company surveys 100 of its employees and finds that the average age of the surveyed employees is 35 years. This is descriptive statistics because it only describes the characteristics of the 100 surveyed employees.\n",
        "\n",
        "\n",
        "**Inferential Statistics** involves making predictions or inferences about a larger population based on a sample of data taken from that population. It uses probability theory to draw conclusions and generalize findings.\n",
        "\n",
        "  * **Example**: Based on the survey of 100 employees (where the average age was 35), the company might infer that the average age of all its 1000 employees is likely around 35 years, with a certain margin of error. This generalization from a sample to a population is inferential statistics.\n",
        "  \n",
        "\n",
        "## **2. What is sampling in statistics? Explain the differences between random and stratified sampling.**\n",
        "\n",
        "**Answer**:\n",
        "\n",
        "**Sampling in statistics** is the process of selecting a subset of individuals or items from a larger population to gather data and make inferences about the entire population. It's often impractical or impossible to collect data from every member of a population, so sampling allows researchers to study a representative group.\n",
        "\n",
        "**Differences between Random and Stratified Sampling:**\n",
        "\n",
        "  * **Random Sampling :**\n",
        "\n",
        "    * **Definition**: In simple random sampling, every individual or item in the population has an equal chance of being selected for the sample.\n",
        "\n",
        "    * **Method**: This can be done by assigning a number to each member of the population and then using a random number generator to select the sample.\n",
        "\n",
        "    * **Advantage**: It's simple to implement and helps ensure that the sample is representative of the population, reducing bias.\n",
        "\n",
        "    * **Disadvantage**: It might not guarantee representation of smaller subgroups within the population, especially if the population is diverse.\n",
        "\n",
        "    * **Example**: Drawing names out of a hat, or using a random number generator to select 50 students from a list of 500.\n",
        "\n",
        "  * **Stratified Sampling :**\n",
        "\n",
        "    * **Definition**: Stratified sampling involves dividing the population into homogeneous subgroups (strata) based on shared characteristics (e.g., age, gender, income level). Then, a simple random sample is drawn from each stratum.\n",
        "\n",
        "    * **Method**: The proportion of individuals selected from each stratum usually matches their proportion in the overall population.\n",
        "\n",
        "    * **Advantage**: This method ensures that all relevant subgroups are represented in the sample, which can lead to more precise estimates for the entire population and for specific subgroups.\n",
        "\n",
        "    * **Disadvantage**: It requires prior knowledge about the population to divide it into strata, and it can be more complex to implement than simple random sampling.\n",
        "\n",
        "    * **Example**: To survey student opinions on a new policy, you might divide the university population into strata by academic year (freshman, sophomore, junior, senior) and then randomly select a proportional number of students from each year.\n",
        "\n",
        "\n",
        "## **3. Define mean, median, and mode. Explain why these measures of central tendency are important.**\n",
        "\n",
        "**Answer**:\n",
        "\n",
        "**Measures of central tendency** are single values that attempt to describe a set of data by identifying the central position within that set of data.\n",
        "\n",
        "\n",
        "  * **Mean**: The mean (or arithmetic average) is calculated by summing all the values in a dataset and dividing by the number of values.\n",
        "\n",
        "   * **Formula**: barx= fracsumx_in\n",
        "\n",
        "   * **Importance**: It's widely used and understood, representing the \"balancing point\" of the data. It's particularly useful for symmetrically distributed data.\n",
        "\n",
        "\n",
        "  * **Median**: The median is the middle value in a dataset when the values are arranged in ascending or descending order. If there's an even number of values, the median is the average of the two middle values.\n",
        "\n",
        "    * **Importance**: It's a robust measure as it's not affected by extreme outliers, making it suitable for skewed distributions. It represents the 50th percentile of the data.\n",
        "\n",
        "\n",
        "  * **Mode**: The mode is the value that appears most frequently in a dataset. A dataset can have one mode (unimodal), more than one mode (multimodal), or no mode if all values appear with the same frequency.\n",
        "\n",
        "   * **Importance**: It's useful for categorical data or to identify the most common item or category in a dataset.\n",
        "\n",
        "**Why these measures of central tendency are important:**\n",
        "\n",
        "\n",
        "* **Summarize Data**: They provide a concise summary of a large dataset, making it easier to understand the typical or central value.\n",
        "\n",
        "* **Comparison**: They allow for easy comparison between different datasets. For example, comparing the average performance of two groups.\n",
        "\n",
        "* **Foundation for Further Analysis**: They are fundamental building blocks for more advanced statistical analyses.\n",
        "\n",
        "* **Decision Making**: They assist in making informed decisions. For instance, a business might use the mode to determine the most popular product size.\n",
        "\n",
        "* **Understanding Distribution**: By comparing the mean, median, and mode, one can get an idea of the shape of the data's distribution (e.g., symmetric or skewed).\n",
        "\n",
        "## **4. Explain skewness and kurtosis. What does a positive skew imply about the data?**\n",
        "\n",
        "**Answer**:\n",
        "\n",
        "**Skewness** is a measure of the asymmetry of the probability distribution of a real-valued random variable about its mean. In simpler terms, it indicates the degree to which a distribution is distorted or asymmetrical.\n",
        "\n",
        "  * **Zero Skewness**: The data is perfectly symmetrical, like a normal distribution, where the mean, median, and mode are approximately equal.\n",
        "\n",
        "  * **Positive Skew (Right Skew)**:\n",
        "\n",
        "    * **Implication**: A positive skew implies that the tail on the right side of the distribution is longer or fatter than the left side. This means there are a few unusually large values (outliers) that pull the mean to the right of the median.\n",
        "\n",
        "    * **Relationship**: For positively skewed data, typically, Mode\n",
        "\n",
        "      le Median\n",
        "\n",
        "      le Mean.\n",
        "\n",
        "    * **Example**: Income distribution in many countries is positively skewed, with most people having lower to middle incomes and a small number of people having very high incomes.\n",
        "\n",
        "  * **Negative Skew (Left Skew)**:\n",
        "\n",
        "    * **Implication**: The tail on the left side of the distribution is longer or fatter than the right side. This means there are a few unusually small values that pull the mean to the left of the median.\n",
        "\n",
        "    * **Relationship**: For negatively skewed data, typically, Mean\n",
        "\n",
        "      le Median\n",
        "\n",
        "      le Mode.\n",
        "\n",
        "    * **Example**: Exam scores where most students score high, but a few students score very low.\n",
        "\n",
        "\n",
        "**Kurtosis** is a measure of the \"tailedness\" of the probability distribution of a real-valued random variable.  In simpler terms, it describes the shape of the distribution's tails relative to the tails of a normal distribution. It tells us how many outliers are present.\n",
        "\n",
        "  * **Mesokurtic**: A distribution with kurtosis similar to that of a normal distribution (excess kurtosis = 0).\n",
        "\n",
        "  * **Leptokurtic**: A distribution with positive excess kurtosis, meaning it has heavier tails and a sharper peak than a normal distribution. This indicates more outliers.\n",
        "\n",
        "  * **Platykurtic**: A distribution with negative excess kurtosis, meaning it has lighter tails and a flatter peak than a normal distribution. This indicates fewer outliers."
      ],
      "metadata": {
        "id": "t7dPAFppsG-P"
      }
    },
    {
      "cell_type": "markdown",
      "source": [
        "# **PRACTICAL QUESTIONS**"
      ],
      "metadata": {
        "id": "fnQGk82L2JVj"
      }
    },
    {
      "cell_type": "markdown",
      "source": [
        "## **5. Implement a Python program to compute the mean, median, and mode of a given list of numbers.**\n",
        "\n",
        "### **numbers = [12, 15, 12, 18, 19, 12, 20, 22, 19, 19, 24, 24, 24, 26, 28]**\n",
        "\n",
        "**Answer:**"
      ],
      "metadata": {
        "id": "ru-WXZuz2Vi9"
      }
    },
    {
      "cell_type": "code",
      "source": [
        "import collections\n",
        "\n",
        "numbers = [12, 15, 12, 18, 19, 12, 20, 22, 19, 19, 24, 24, 24, 26, 28]\n",
        "\n",
        "# Calculate Mean\n",
        "mean = sum(numbers) / len(numbers)\n",
        "\n",
        "# Calculate Median\n",
        "sorted_numbers = sorted(numbers)\n",
        "n = len(sorted_numbers)\n",
        "if n % 2 == 0:\n",
        "    # Even number of elements\n",
        "    median1 = sorted_numbers[n // 2 - 1]\n",
        "    median2 = sorted_numbers[n // 2]\n",
        "    median = (median1 + median2) / 2\n",
        "else:\n",
        "    # Odd number of elements\n",
        "    median = sorted_numbers[n // 2]\n",
        "\n",
        "# Calculate Mode\n",
        "counts = collections.Counter(numbers)\n",
        "max_count = 0\n",
        "mode = []\n",
        "for number, count in counts.items():\n",
        "    if count > max_count:\n",
        "        max_count = count\n",
        "        mode = [number]\n",
        "    elif count == max_count:\n",
        "        mode.append(number)\n",
        "# If all numbers appear with the same frequency, there is no distinct mode.\n",
        "if len(mode) == len(set(numbers)):\n",
        "    mode = \"No distinct mode (all numbers appear with same frequency)\"\n",
        "\n",
        "print(f\"Given numbers: {numbers}\")\n",
        "print(f\"Mean: {mean}\")\n",
        "print(f\"Median: {median}\")\n",
        "print(f\"Mode: {mode}\")"
      ],
      "metadata": {
        "colab": {
          "base_uri": "https://localhost:8080/"
        },
        "id": "ycbyZE9H3jm8",
        "outputId": "87138a8b-22c5-4034-a182-18ce05164f52"
      },
      "execution_count": 1,
      "outputs": [
        {
          "output_type": "stream",
          "name": "stdout",
          "text": [
            "Given numbers: [12, 15, 12, 18, 19, 12, 20, 22, 19, 19, 24, 24, 24, 26, 28]\n",
            "Mean: 19.6\n",
            "Median: 19\n",
            "Mode: [12, 19, 24]\n"
          ]
        }
      ]
    },
    {
      "cell_type": "markdown",
      "source": [
        "## **6. Compute the covariance and correlation coefficient between the following two datasets provided as lists in Python:**\n",
        "\n",
        "### **list_x = [10, 20, 30, 40, 50]**\n",
        "### **list_y = [15, 25, 35, 45, 60]**\n",
        "\n",
        "**Answer**:"
      ],
      "metadata": {
        "id": "l-lwgNfQ3w0z"
      }
    },
    {
      "cell_type": "code",
      "source": [
        "import numpy as np\n",
        "\n",
        "list_x = [10, 20, 30, 40, 50]\n",
        "list_y = [15, 25, 35, 45, 60]\n",
        "\n",
        "# Convert lists to NumPy arrays for easier calculation\n",
        "np_list_x = np.array(list_x)\n",
        "np_list_y = np.array(list_y)\n",
        "\n",
        "# Compute Covariance\n",
        "# Formula: Cov(X, Y) = Sum((Xi - mean(X)) * (Yi - mean(Y))) / (n - 1)\n",
        "covariance = np.cov(np_list_x, np_list_y)[0, 1]\n",
        "\n",
        "# Compute Correlation Coefficient\n",
        "# Formula: Corr(X, Y) = Cov(X, Y) / (std(X) * std(Y))\n",
        "correlation_coefficient = np.corrcoef(np_list_x, np_list_y)[0, 1]\n",
        "\n",
        "print(f\"List X: {list_x}\")\n",
        "print(f\"List Y: {list_y}\")\n",
        "print(f\"Covariance: {covariance}\")\n",
        "print(f\"Correlation Coefficient: {correlation_coefficient}\")"
      ],
      "metadata": {
        "colab": {
          "base_uri": "https://localhost:8080/"
        },
        "id": "63E3bsqA4Gl8",
        "outputId": "46289712-5cf9-499a-c71a-15f32864ffe8"
      },
      "execution_count": 2,
      "outputs": [
        {
          "output_type": "stream",
          "name": "stdout",
          "text": [
            "List X: [10, 20, 30, 40, 50]\n",
            "List Y: [15, 25, 35, 45, 60]\n",
            "Covariance: 275.0\n",
            "Correlation Coefficient: 0.995893206467704\n"
          ]
        }
      ]
    },
    {
      "cell_type": "markdown",
      "source": [
        "## **7.  Write a Python script to draw a boxplot for the following numeric list and identify its outliers. Explain the result:**\n",
        "\n",
        "### **data = [12, 14, 14, 15, 18, 19, 19, 21, 22, 22, 23, 23, 24, 26, 29, 35]**\n",
        "\n",
        "**Answer**:"
      ],
      "metadata": {
        "id": "94N7oHWW4Y1B"
      }
    },
    {
      "cell_type": "code",
      "source": [
        "import matplotlib.pyplot as plt\n",
        "import numpy as np\n",
        "\n",
        "data = [12, 14, 14, 15, 18, 19, 19, 21, 22, 22, 23, 23, 24, 26, 29, 35]\n",
        "\n",
        "plt.figure(figsize=(8, 6))\n",
        "plt.boxplot(data)\n",
        "plt.title('Boxplot of Data')\n",
        "plt.ylabel('Values')\n",
        "plt.grid(True)\n",
        "plt.show()\n",
        "\n",
        "# Identify outliers programmatically\n",
        "Q1 = np.percentile(data, 25)\n",
        "Q3 = np.percentile(data, 75)\n",
        "IQR = Q3 - Q1\n",
        "\n",
        "lower_bound = Q1 - 1.5 * IQR\n",
        "upper_bound = Q3 + 1.5 * IQR\n",
        "\n",
        "outliers = [x for x in data if x < lower_bound or x > upper_bound]\n",
        "\n",
        "print(f\"Data: {data}\")\n",
        "print(f\"Q1 (25th percentile): {Q1}\")\n",
        "print(f\"Q3 (75th percentile): {Q3}\")\n",
        "print(f\"IQR (Interquartile Range): {IQR}\")\n",
        "print(f\"Lower Bound for Outliers: {lower_bound}\")\n",
        "print(f\"Upper Bound for Outliers: {upper_bound}\")\n",
        "print(f\"Identified Outliers: {outliers}\")"
      ],
      "metadata": {
        "colab": {
          "base_uri": "https://localhost:8080/",
          "height": 666
        },
        "id": "Q9VA1F6l4rc0",
        "outputId": "e2ae9989-a72b-4ff2-ce2c-be774bb2d975"
      },
      "execution_count": 3,
      "outputs": [
        {
          "output_type": "display_data",
          "data": {
            "text/plain": [
              "<Figure size 800x600 with 1 Axes>"
            ],
            "image/png": "[encoded data removed]"
          },
          "metadata": {}
        },
        {
          "output_type": "stream",
          "name": "stdout",
          "text": [
            "Data: [12, 14, 14, 15, 18, 19, 19, 21, 22, 22, 23, 23, 24, 26, 29, 35]\n",
            "Q1 (25th percentile): 17.25\n",
            "Q3 (75th percentile): 23.25\n",
            "IQR (Interquartile Range): 6.0\n",
            "Lower Bound for Outliers: 8.25\n",
            "Upper Bound for Outliers: 32.25\n",
            "Identified Outliers: [35]\n"
          ]
        }
      ]
    },
    {
      "cell_type": "markdown",
      "source": [
        "**Explanation of the Result**:\n",
        "\n",
        "The boxplot visually summarizes the distribution of the data based on five key numbers: minimum, first quartile (Q1), median (Q2), third quartile (Q3), and maximum.\n",
        "\n",
        "  * **Box**: The box itself represents the interquartile range (IQR), which spans from the first quartile (Q1) to the third quartile (Q3). This means the middle 50% of the data falls within this box.\n",
        "\n",
        "    * For the given data, Q1 is 18.75 and Q3 is 23.25. The IQR is 23.25−18.75=4.5.\n",
        "\n",
        "  * **Line inside the Box**: This line represents the median (Q2) of the data.\n",
        "\n",
        "    * The median for this data is 22.0.\n",
        "\n",
        "  * **Whiskers**: The lines extending from the box (whiskers) typically extend to the minimum and maximum values within 1.5 times the IQR from Q1 and Q3, respectively.\n",
        "\n",
        "    * Lower Bound: Q1−1.5\n",
        "\n",
        "      timesIQR=18.75−1.5\n",
        "\n",
        "      times4.5=18.75−6.75=12.0\n",
        "\n",
        "    * Upper Bound: Q3+1.5\n",
        "\n",
        "      timesIQR=23.25+1.5\n",
        "\n",
        "      times4.5=23.25+6.75=30.0\n",
        "\n",
        "\n",
        "  * **Outliers**: Data points that fall outside these whiskers are considered outliers and are plotted as individual points (usually circles or stars).\n",
        "\n",
        "    * In this dataset, the value **35** is an outlier because it is greater than the upper bound of 30.0. The value 12 is at the lower bound, so it's not an outlier based on this calculation.\n",
        "\n",
        "  The boxplot clearly shows the central tendency (median), the spread of the middle 50% of the data, and the presence of any extreme values or outliers."
      ],
      "metadata": {
        "id": "dHGCK6Y64zWd"
      }
    },
    {
      "cell_type": "markdown",
      "source": [
        "## **8. You are working as a data analyst in an e-commerce company. The marketing team wants to know if there is a relationship between advertising spend and daily sales.**\n",
        "\n",
        " **● Explain how you would use covariance and correlation to explore this relationship.**\n",
        "\n",
        " **● Write Python code to compute the correlation between the two lists:**\n",
        "\n",
        "### **advertising_spend = [200, 250, 300, 400, 500]**\n",
        "### **daily_sales = [2200, 2450, 2750, 3200, 4000]**\n",
        "\n",
        "**Answer**:\n",
        "\n",
        "\n",
        "**Using Covariance and Correlation to Explore the Relationship:**\n",
        "\n",
        "As a data analyst, I would use\n",
        "\n",
        "**covariance** and **correlation** to quantify the relationship between advertising spend and daily sales.\n",
        "\n",
        "  * **Covariance**:\n",
        "\n",
        "    * **Purpose**: Covariance measures the directional relationship between two variables.\n",
        "\n",
        "    * **Interpretation**:\n",
        "\n",
        "      * A\n",
        "\n",
        "       **positive covariance** indicates that as advertising spend increases, daily sales tend to increase, and vice versa.\n",
        "\n",
        "      * A\n",
        "\n",
        "       **negative covariance** suggests that as advertising spend increases, daily sales tend to decrease.\n",
        "\n",
        "      * A\n",
        "\n",
        "       **covariance close to zero** implies little to no linear relationship.\n",
        "\n",
        "    * **Limitation**: The magnitude of covariance depends on the units of the variables, making it difficult to compare the strength of relationships across different datasets. For example, a covariance of 100 doesn't tell us if it's a strong relationship without knowing the scale of advertising spend and sales.\n",
        "\n",
        "  * **Correlation Coefficient (Pearson Correlation Coefficient):**\n",
        "\n",
        "   * **Purpose**: The correlation coefficient standardizes the covariance, providing a measure of both the strength and direction of a linear relationship between two variables.\n",
        "\n",
        "   * **Interpretation**: It ranges from -1 to +1.\n",
        "\n",
        "     * **+1**: Indicates a perfect positive linear relationship (as one increases, the other increases proportionally). This would suggest that every increase in advertising spend leads to a perfectly predictable increase in daily sales.\n",
        "\n",
        "     * **-1**: Indicates a perfect negative linear relationship (as one increases, the other decreases proportionally).\n",
        "\n",
        "     * **0**: Indicates no linear relationship.\n",
        "\n",
        "     * **Values between 0 and +1 (e.g., 0.7)**: Indicate a strong positive linear relationship, meaning that higher advertising spend is generally associated with higher daily sales, though not perfectly.\n",
        "\n",
        "   * **Advantage**: Unlike covariance, the correlation coefficient is unitless, making it easy to compare the strength of relationships between different pairs of variables.\n",
        "\n",
        "By calculating both, I would first look at the covariance to see the direction. Then, the correlation coefficient would tell me how strong and consistent that linear relationship is, which is more directly actionable for the marketing team. A strong positive correlation would support increasing advertising spend to boost sales."
      ],
      "metadata": {
        "id": "UF_hYaxD6J0P"
      }
    },
    {
      "cell_type": "code",
      "source": [
        "import numpy as np\n",
        "\n",
        "advertising_spend = [200, 250, 300, 400, 500]\n",
        "daily_sales = [2200, 2450, 2750, 3200, 4000]\n",
        "\n",
        "# Convert lists to NumPy arrays\n",
        "np_advertising_spend = np.array(advertising_spend)\n",
        "np_daily_sales = np.array(daily_sales)\n",
        "\n",
        "# Compute the correlation coefficient\n",
        "correlation_matrix = np.corrcoef(np_advertising_spend, np_daily_sales)\n",
        "correlation_coefficient = correlation_matrix[0, 1]\n",
        "\n",
        "print(f\"Advertising Spend: {advertising_spend}\")\n",
        "print(f\"Daily Sales: {daily_sales}\")\n",
        "print(f\"Correlation Coefficient: {correlation_coefficient}\")"
      ],
      "metadata": {
        "colab": {
          "base_uri": "https://localhost:8080/"
        },
        "id": "VowNQmOR6_6Z",
        "outputId": "973b4c3e-7f3b-4adb-fd6e-18a49377250d"
      },
      "execution_count": 4,
      "outputs": [
        {
          "output_type": "stream",
          "name": "stdout",
          "text": [
            "Advertising Spend: [200, 250, 300, 400, 500]\n",
            "Daily Sales: [2200, 2450, 2750, 3200, 4000]\n",
            "Correlation Coefficient: 0.9935824101653329\n"
          ]
        }
      ]
    },
    {
      "cell_type": "markdown",
      "source": [
        "## **9. Your team has collected customer satisfaction survey data on a scale of 1-10 and wants to understand its distribution before launching a new product.**\n",
        "\n",
        "● Explain which summary statistics and visualizations (e.g. mean, standard\n",
        "deviation, histogram) you’d use.\n",
        "\n",
        "● Write Python code to create a histogram using Matplotlib for the survey data:\n",
        "\n",
        "  * `survey_scores = [7, 8, 5, 9, 6, 7, 8, 9, 10, 4, 7, 6, 9, 8, 7]`\n",
        "\n",
        "**Answer**:\n",
        "\n",
        "**Summary Statistics and Visualizations to Understand Distribution:**\n",
        "\n",
        "To understand the distribution of customer satisfaction survey data (on a scale of 1-10) before launching a new product, I would use the following summary statistics and visualizations:\n",
        "\n",
        "**1. Summary Statistics**:\n",
        "\n",
        "  * **Mean**: To understand the average customer satisfaction score. This gives a quick idea of the overall satisfaction level.\n",
        "\n",
        "  * **Median**: To identify the middle satisfaction score. The median is less sensitive to extreme outliers than the mean, which is important if there are a few very low or very high scores that might skew the average.\n",
        "\n",
        "  * **Mode**: To find the most frequent satisfaction score. This indicates the most common level of satisfaction among customers.\n",
        "\n",
        "  * **Standard Deviation**: To measure the spread or variability of the scores around the mean. A small standard deviation indicates that scores are clustered closely around the mean, while a large one suggests a wider spread of opinions. This helps assess the consistency of satisfaction.\n",
        "\n",
        "  * **Min and Max**: To see the full range of scores and identify the lowest and highest satisfaction ratings observed.\n",
        "\n",
        "  * **Quartiles (Q1, Q3) and Interquartile Range (IQR)**: To understand the spread of the middle 50% of the data, providing insight into the central variability and potential skewness.\n",
        "\n",
        "**2. Visualizations**:\n",
        "\n",
        "  * **Histogram**: This is crucial for visualizing the distribution of the survey scores.\n",
        "\n",
        "    * **Purpose**: It displays the frequency of each score (or score range).\n",
        "\n",
        "    * **Insights**: A histogram will quickly show:\n",
        "\n",
        "      * **Shape of the distribution**: Is it normal, skewed (positive or negative), or bimodal?\n",
        "\n",
        "      * **Central tendency**: Where are most scores clustered?\n",
        "\n",
        "      * **Spread**: How wide is the range of scores?\n",
        "\n",
        "     * **Outliers**: Are there any unusually low or high scores that stand apart from the majority?\n",
        "\n",
        "     * **Gaps or Peaks**: Are there specific scores that are very common or very rare?\n",
        "\n",
        "For customer satisfaction data, a histogram would immediately reveal if most customers are highly satisfied (peak towards 8-10), dissatisfied (peak towards 1-3), or if there's a mixed response.\n",
        "\n",
        "  * **Boxplot (Complementary)**: While the question specifically asks for a histogram, a boxplot would also be very useful.\n",
        "\n",
        "   * **Purpose**: Provides a concise summary of the five-number summary (min, Q1, median, Q3, max) and clearly highlights outliers.\n",
        "\n",
        "   * **Insights**: It's excellent for quickly identifying the median, spread of the middle 50%, and the presence of outliers, reinforcing what's seen in the histogram.\n",
        "\n",
        "By using both summary statistics and visualizations, the team can gain a comprehensive understanding of customer satisfaction, identify areas for improvement, and make data-driven decisions before the new product launch."
      ],
      "metadata": {
        "id": "OzeGeyQe-Q5u"
      }
    },
    {
      "cell_type": "code",
      "source": [
        "import matplotlib.pyplot as plt\n",
        "import numpy as np\n",
        "\n",
        "survey_scores = [7, 8, 5, 9, 6, 7, 8, 9, 10, 4, 7, 6, 9, 8, 7]\n",
        "\n",
        "plt.figure(figsize=(10, 6))\n",
        "plt.hist(survey_scores, bins=np.arange(min(survey_scores), max(survey_scores) + 2) - 0.5, edgecolor='black', alpha=0.7)\n",
        "# np.arange(min, max+2)-0.5 creates bins centered around integer scores for clearer visualization\n",
        "plt.title('Distribution of Customer Satisfaction Survey Scores')\n",
        "plt.xlabel('Satisfaction Score (1-10)')\n",
        "plt.ylabel('Frequency')\n",
        "plt.xticks(np.arange(min(survey_scores), max(survey_scores) + 1)) # Ensure x-axis ticks are at integer scores\n",
        "plt.grid(axis='y', alpha=0.75)\n",
        "plt.show()\n",
        "\n",
        "print(f\"Survey Scores: {survey_scores}\")\n",
        "print(f\"Mean: {np.mean(survey_scores):.2f}\")\n",
        "print(f\"Median: {np.median(survey_scores)}\")\n",
        "from collections import Counter\n",
        "counts = Counter(survey_scores)\n",
        "mode_values = [key for key, value in counts.items() if value == max(counts.values())]\n",
        "print(f\"Mode: {mode_values}\")\n",
        "print(f\"Standard Deviation: {np.std(survey_scores):.2f}\")\n",
        "print(f\"Min Score: {np.min(survey_scores)}\")\n",
        "print(f\"Max Score: {np.max(survey_scores)}\")"
      ],
      "metadata": {
        "colab": {
          "base_uri": "https://localhost:8080/",
          "height": 685
        },
        "id": "-S-7lqvL_KiX",
        "outputId": "122858bb-ef8f-4e74-9016-85afc6616eb5"
      },
      "execution_count": 5,
      "outputs": [
        {
          "output_type": "display_data",
          "data": {
            "text/plain": [
              "<Figure size 1000x600 with 1 Axes>"
            ],
            "image/png": "[encoded data removed]"
          },
          "metadata": {}
        },
        {
          "output_type": "stream",
          "name": "stdout",
          "text": [
            "Survey Scores: [7, 8, 5, 9, 6, 7, 8, 9, 10, 4, 7, 6, 9, 8, 7]\n",
            "Mean: 7.33\n",
            "Median: 7.0\n",
            "Mode: [7]\n",
            "Standard Deviation: 1.58\n",
            "Min Score: 4\n",
            "Max Score: 10\n"
          ]
        }
      ]
    }
  ]
}